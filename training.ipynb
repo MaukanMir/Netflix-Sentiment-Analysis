{
 "cells": [
  {
   "cell_type": "markdown",
   "metadata": {},
   "source": [
    "# Netflix Sentiment Analysis"
   ]
  },
  {
   "cell_type": "markdown",
   "metadata": {},
   "source": [
    "# Imports"
   ]
  },
  {
   "cell_type": "code",
   "execution_count": 12,
   "metadata": {},
   "outputs": [],
   "source": [
    "import numpy as np\n",
    "import pandas as pd\n",
    "import matplotlib.pyplot as plt\n",
    "import seaborn as sns"
   ]
  },
  {
   "cell_type": "markdown",
   "metadata": {},
   "source": [
    "# Functions"
   ]
  },
  {
   "cell_type": "code",
   "execution_count": 16,
   "metadata": {},
   "outputs": [],
   "source": [
    "def check_for_nulls_dupes(df):\n",
    "  print(f\"The amount of NaN values: {df.isna().sum()}\")\n",
    "  print(f\"The amount of Duplicated values: {df.duplicated().sum()}\")\n",
    "\n",
    "def check_class_imbalance(target):\n",
    "  \n",
    "  unique, counts = np.unique(target, return_counts=True)\n",
    "  plt.figure(figsize=(10, 7))\n",
    "  plt.pie(counts, labels=unique, autopct=\"%1.1f%%\", startangle=140)\n",
    "  plt.title(\"Target Class Breakdown\")\n",
    "  plt.show()\n",
    "  \n",
    "  plt.figure(figsize=(10, 7))\n",
    "  sns.countplot(x=target)\n",
    "  plt.title(\"Target Class Breakdown\")\n",
    "  plt.xlabel(\"Target Class\")\n",
    "  plt.ylabel(\"Counts\")\n",
    "  plt.xticks(rotation=45)\n",
    "  plt.show()"
   ]
  },
  {
   "cell_type": "code",
   "execution_count": 2,
   "metadata": {},
   "outputs": [
    {
     "data": {
      "text/html": [
       "<div>\n",
       "<style scoped>\n",
       "    .dataframe tbody tr th:only-of-type {\n",
       "        vertical-align: middle;\n",
       "    }\n",
       "\n",
       "    .dataframe tbody tr th {\n",
       "        vertical-align: top;\n",
       "    }\n",
       "\n",
       "    .dataframe thead th {\n",
       "        text-align: right;\n",
       "    }\n",
       "</style>\n",
       "<table border=\"1\" class=\"dataframe\">\n",
       "  <thead>\n",
       "    <tr style=\"text-align: right;\">\n",
       "      <th></th>\n",
       "      <th>reviewId</th>\n",
       "      <th>userName</th>\n",
       "      <th>content</th>\n",
       "      <th>score</th>\n",
       "      <th>thumbsUpCount</th>\n",
       "      <th>reviewCreatedVersion</th>\n",
       "      <th>at</th>\n",
       "      <th>appVersion</th>\n",
       "    </tr>\n",
       "  </thead>\n",
       "  <tbody>\n",
       "    <tr>\n",
       "      <th>0</th>\n",
       "      <td>1772b40f-8cfd-4c56-a370-c944e5b5ce48</td>\n",
       "      <td>Gato Reviews</td>\n",
       "      <td>Utter trash. Been a customer for over 10 years...</td>\n",
       "      <td>1</td>\n",
       "      <td>0</td>\n",
       "      <td>8.114.0 build 19 50680</td>\n",
       "      <td>2024-05-23 22:35:45</td>\n",
       "      <td>8.114.0 build 19 50680</td>\n",
       "    </tr>\n",
       "    <tr>\n",
       "      <th>1</th>\n",
       "      <td>b6b64d5c-30f6-4bed-8d66-9b4582e72e3b</td>\n",
       "      <td>Quincy Alleyne</td>\n",
       "      <td>Good</td>\n",
       "      <td>5</td>\n",
       "      <td>0</td>\n",
       "      <td>8.115.2 build 6 50688</td>\n",
       "      <td>2024-05-23 22:34:47</td>\n",
       "      <td>8.115.2 build 6 50688</td>\n",
       "    </tr>\n",
       "    <tr>\n",
       "      <th>2</th>\n",
       "      <td>8be7d06b-f90e-4ca7-abf6-f908b40946e2</td>\n",
       "      <td>nez zuber</td>\n",
       "      <td>The only streaming service that beats Netflix ...</td>\n",
       "      <td>2</td>\n",
       "      <td>0</td>\n",
       "      <td>NaN</td>\n",
       "      <td>2024-05-23 22:33:52</td>\n",
       "      <td>NaN</td>\n",
       "    </tr>\n",
       "    <tr>\n",
       "      <th>3</th>\n",
       "      <td>72485684-9e73-4dca-a580-0a92b3a3a7e6</td>\n",
       "      <td>Elon Frett</td>\n",
       "      <td>Everything that's objectively good gets remove...</td>\n",
       "      <td>1</td>\n",
       "      <td>0</td>\n",
       "      <td>8.109.0 build 7 50647</td>\n",
       "      <td>2024-05-23 22:30:43</td>\n",
       "      <td>8.109.0 build 7 50647</td>\n",
       "    </tr>\n",
       "    <tr>\n",
       "      <th>4</th>\n",
       "      <td>348796c3-0056-4491-80f7-d6c38fcb2790</td>\n",
       "      <td>kwakhanya bambeni</td>\n",
       "      <td>Wish the owner be a trillioner because he/she ...</td>\n",
       "      <td>4</td>\n",
       "      <td>0</td>\n",
       "      <td>NaN</td>\n",
       "      <td>2024-05-23 22:30:27</td>\n",
       "      <td>NaN</td>\n",
       "    </tr>\n",
       "    <tr>\n",
       "      <th>...</th>\n",
       "      <td>...</td>\n",
       "      <td>...</td>\n",
       "      <td>...</td>\n",
       "      <td>...</td>\n",
       "      <td>...</td>\n",
       "      <td>...</td>\n",
       "      <td>...</td>\n",
       "      <td>...</td>\n",
       "    </tr>\n",
       "    <tr>\n",
       "      <th>24995</th>\n",
       "      <td>b6d3427b-1bd9-4767-86e4-6b69b4349908</td>\n",
       "      <td>avinaash Dey</td>\n",
       "      <td>Good but will be more if get a Hindi languages...</td>\n",
       "      <td>4</td>\n",
       "      <td>0</td>\n",
       "      <td>8.103.0 build 8 50614</td>\n",
       "      <td>2024-02-18 05:18:14</td>\n",
       "      <td>8.103.0 build 8 50614</td>\n",
       "    </tr>\n",
       "    <tr>\n",
       "      <th>24996</th>\n",
       "      <td>cb5480de-f2ab-44f0-97e5-c7e28f8b06ba</td>\n",
       "      <td>Dr. Gurmeet Singh Mankan</td>\n",
       "      <td>Nice and excellent performance for full entert...</td>\n",
       "      <td>5</td>\n",
       "      <td>1</td>\n",
       "      <td>8.103.0 build 8 50614</td>\n",
       "      <td>2024-02-15 02:39:01</td>\n",
       "      <td>8.103.0 build 8 50614</td>\n",
       "    </tr>\n",
       "    <tr>\n",
       "      <th>24997</th>\n",
       "      <td>4adfe2ba-b346-4afc-8db0-74d39e492a83</td>\n",
       "      <td>A Google user</td>\n",
       "      <td>Cool app but it is a bit frustrating for us fr...</td>\n",
       "      <td>2</td>\n",
       "      <td>0</td>\n",
       "      <td>7.53.3 build 31 34824</td>\n",
       "      <td>2020-04-27 21:12:37</td>\n",
       "      <td>7.53.3 build 31 34824</td>\n",
       "    </tr>\n",
       "    <tr>\n",
       "      <th>24998</th>\n",
       "      <td>3f852e4c-21df-4f3c-a122-e9d5f85a2e66</td>\n",
       "      <td>Biki Das</td>\n",
       "      <td>I am new to Netflix and u all know that withou...</td>\n",
       "      <td>3</td>\n",
       "      <td>0</td>\n",
       "      <td>NaN</td>\n",
       "      <td>2020-12-04 16:09:25</td>\n",
       "      <td>NaN</td>\n",
       "    </tr>\n",
       "    <tr>\n",
       "      <th>24999</th>\n",
       "      <td>b4bc1e84-c163-436d-ab4d-4832b4aa4867</td>\n",
       "      <td>Brianna Oliver</td>\n",
       "      <td>I was right in the middle of the first season ...</td>\n",
       "      <td>1</td>\n",
       "      <td>0</td>\n",
       "      <td>8.30.3 build 14 50239</td>\n",
       "      <td>2022-07-01 07:13:43</td>\n",
       "      <td>8.30.3 build 14 50239</td>\n",
       "    </tr>\n",
       "  </tbody>\n",
       "</table>\n",
       "<p>25000 rows × 8 columns</p>\n",
       "</div>"
      ],
      "text/plain": [
       "                                   reviewId                  userName  \\\n",
       "0      1772b40f-8cfd-4c56-a370-c944e5b5ce48              Gato Reviews   \n",
       "1      b6b64d5c-30f6-4bed-8d66-9b4582e72e3b            Quincy Alleyne   \n",
       "2      8be7d06b-f90e-4ca7-abf6-f908b40946e2                 nez zuber   \n",
       "3      72485684-9e73-4dca-a580-0a92b3a3a7e6                Elon Frett   \n",
       "4      348796c3-0056-4491-80f7-d6c38fcb2790         kwakhanya bambeni   \n",
       "...                                     ...                       ...   \n",
       "24995  b6d3427b-1bd9-4767-86e4-6b69b4349908              avinaash Dey   \n",
       "24996  cb5480de-f2ab-44f0-97e5-c7e28f8b06ba  Dr. Gurmeet Singh Mankan   \n",
       "24997  4adfe2ba-b346-4afc-8db0-74d39e492a83             A Google user   \n",
       "24998  3f852e4c-21df-4f3c-a122-e9d5f85a2e66                  Biki Das   \n",
       "24999  b4bc1e84-c163-436d-ab4d-4832b4aa4867            Brianna Oliver   \n",
       "\n",
       "                                                 content  score  \\\n",
       "0      Utter trash. Been a customer for over 10 years...      1   \n",
       "1                                                   Good      5   \n",
       "2      The only streaming service that beats Netflix ...      2   \n",
       "3      Everything that's objectively good gets remove...      1   \n",
       "4      Wish the owner be a trillioner because he/she ...      4   \n",
       "...                                                  ...    ...   \n",
       "24995  Good but will be more if get a Hindi languages...      4   \n",
       "24996  Nice and excellent performance for full entert...      5   \n",
       "24997  Cool app but it is a bit frustrating for us fr...      2   \n",
       "24998  I am new to Netflix and u all know that withou...      3   \n",
       "24999  I was right in the middle of the first season ...      1   \n",
       "\n",
       "       thumbsUpCount    reviewCreatedVersion                   at  \\\n",
       "0                  0  8.114.0 build 19 50680  2024-05-23 22:35:45   \n",
       "1                  0   8.115.2 build 6 50688  2024-05-23 22:34:47   \n",
       "2                  0                     NaN  2024-05-23 22:33:52   \n",
       "3                  0   8.109.0 build 7 50647  2024-05-23 22:30:43   \n",
       "4                  0                     NaN  2024-05-23 22:30:27   \n",
       "...              ...                     ...                  ...   \n",
       "24995              0   8.103.0 build 8 50614  2024-02-18 05:18:14   \n",
       "24996              1   8.103.0 build 8 50614  2024-02-15 02:39:01   \n",
       "24997              0   7.53.3 build 31 34824  2020-04-27 21:12:37   \n",
       "24998              0                     NaN  2020-12-04 16:09:25   \n",
       "24999              0   8.30.3 build 14 50239  2022-07-01 07:13:43   \n",
       "\n",
       "                   appVersion  \n",
       "0      8.114.0 build 19 50680  \n",
       "1       8.115.2 build 6 50688  \n",
       "2                         NaN  \n",
       "3       8.109.0 build 7 50647  \n",
       "4                         NaN  \n",
       "...                       ...  \n",
       "24995   8.103.0 build 8 50614  \n",
       "24996   8.103.0 build 8 50614  \n",
       "24997   7.53.3 build 31 34824  \n",
       "24998                     NaN  \n",
       "24999   8.30.3 build 14 50239  \n",
       "\n",
       "[25000 rows x 8 columns]"
      ]
     },
     "execution_count": 2,
     "metadata": {},
     "output_type": "execute_result"
    }
   ],
   "source": [
    "df = pd.read_csv(\"/Users/maukanmir/Downloads/netflix_reviews.csv\",nrows=25000)\n",
    "df"
   ]
  },
  {
   "cell_type": "markdown",
   "metadata": {},
   "source": [
    "# Check for Nulls and Dupe Values"
   ]
  },
  {
   "cell_type": "code",
   "execution_count": 4,
   "metadata": {},
   "outputs": [
    {
     "name": "stdout",
     "output_type": "stream",
     "text": [
      "The amount of NaN values: reviewId                   0\n",
      "userName                   1\n",
      "content                    2\n",
      "score                      0\n",
      "thumbsUpCount              0\n",
      "reviewCreatedVersion    2549\n",
      "at                         0\n",
      "appVersion              2549\n",
      "dtype: int64\n",
      "The amount of Duplicated values: 287\n"
     ]
    }
   ],
   "source": [
    "check_for_nulls_dupes(df)"
   ]
  },
  {
   "cell_type": "code",
   "execution_count": 5,
   "metadata": {},
   "outputs": [],
   "source": [
    "df.dropna(inplace=True)"
   ]
  },
  {
   "cell_type": "code",
   "execution_count": 8,
   "metadata": {},
   "outputs": [],
   "source": [
    "df.drop_duplicates(inplace=True)"
   ]
  },
  {
   "cell_type": "code",
   "execution_count": 9,
   "metadata": {},
   "outputs": [
    {
     "data": {
      "text/plain": [
       "(22224, 8)"
      ]
     },
     "execution_count": 9,
     "metadata": {},
     "output_type": "execute_result"
    }
   ],
   "source": [
    "df.shape"
   ]
  },
  {
   "cell_type": "markdown",
   "metadata": {},
   "source": [
    "# Check For Class Imabalance"
   ]
  },
  {
   "cell_type": "code",
   "execution_count": 17,
   "metadata": {},
   "outputs": [
    {
     "data": {
      "image/png": "[encoded data removed]",
      "text/plain": [
       "<Figure size 1000x700 with 1 Axes>"
      ]
     },
     "metadata": {},
     "output_type": "display_data"
    },
    {
     "data": {
      "image/png": "[encoded data removed]",
      "text/plain": [
       "<Figure size 1000x700 with 1 Axes>"
      ]
     },
     "metadata": {},
     "output_type": "display_data"
    }
   ],
   "source": [
    "check_class_imbalance(df[\"score\"])"
   ]
  },
  {
   "cell_type": "code",
   "execution_count": null,
   "metadata": {},
   "outputs": [],
   "source": []
  }
 ],
 "metadata": {
  "kernelspec": {
   "display_name": "machine-learning-env",
   "language": "python",
   "name": "python3"
  },
  "language_info": {
   "codemirror_mode": {
    "name": "ipython",
    "version": 3
   },
   "file_extension": ".py",
   "mimetype": "text/x-python",
   "name": "python",
   "nbconvert_exporter": "python",
   "pygments_lexer": "ipython3",
   "version": "3.9.19"
  }
 },
 "nbformat": 4,
 "nbformat_minor": 2
}
